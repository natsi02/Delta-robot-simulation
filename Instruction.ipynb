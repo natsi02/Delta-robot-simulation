{
 "cells": [
  {
   "cell_type": "markdown",
   "metadata": {},
   "source": [
    "### **FRA 333 Kinematics - Delta robot simulation**\n",
    "**[Group 20]**\n",
    "- นายณัฐชนนท์ \t\tสิงหา \t\t64340500017\n",
    "- นางสาวธนพรรณ \tเรืองสุข \t\t64340500025\n",
    "\n",
    "\n",
    "<strong><font color='red'> ** หากจะทำการ Run code ให้ไปที่ main.py เท่านั้น!!** </font></strong>"
   ]
  },
  {
   "cell_type": "markdown",
   "metadata": {},
   "source": [
    "## **Instruction**"
   ]
  },
  {
   "cell_type": "markdown",
   "metadata": {},
   "source": [
    "#### **เนื้อหาที่เกี่ยวข้องกับรายวิชา :**\n",
    "\n",
    "เนื่องจากต้องการศึกษาหลักการทำงานของ Delta robot รุ่น IRB 340 ในการใช้งานเพื่อ Pick and Paste และ Simulation เพื่อจำลองการเคลื่อนที่ของหุ่นยนต์ โดยที่หุ่นยนต์นั้นมี Degree of Freedom อยู่ที่ 3 DoF คล้ายคลึงกับ Pick and Paste robot manipulator แต่มีความแตกต่างกันตรงที่ในแต่ละ Link ของ Delta robot นั้นจะต้องทำงานให้สัมพันธ์กัน และด้วยลักษณะดังกล่าวทำให้ Delta robot นั้นมีความ Flexibility ในการเคลื่อนที่มากกว่าหุ่นยนต์ทั่วไป และในการที่จะควบคุมหุ่นยนต์ให้สามารถเคลื่อนที่ได้นั้นต้องอาศัยการควบคุม Joint เพื่อที่จะให้ Link สามารถเคลื่อนที่ได้ จึงได้มีการนำความรู้เรื่อง Inverse Kinematics มาใช้ในการคำนวณย้อนกลับเพื่อหาองศาในการเคลื่อนที่ของหุ่นยนต์ ทั้งนี้ยังมีการคำนวณเพื่อเช็คการเกิด Singularity เช่นกัน\n",
    "\n",
    "**หมายเหตุ** ทางผู้จัดทำได้จัดทำระบบ Simulation ของ Delta Robot รุ่น IRB 340 เท่านั้น\n"
   ]
  },
  {
   "cell_type": "markdown",
   "metadata": {},
   "source": [
    "#### **Delta robot kinematic model :**\n",
    "จากการศึกษานั้นพบว่า Delta robot ได้อาศัยการเคลื่อนที่จากการควบคุม Upper link หรือแขนหุ่นยนต์ที่อยู่กับ Base โดยในการควบคุมการเคลื่อนที่ของหุ่นยนต์เป็นหลักซึ่งประกอบไปด้วย 3 Joint ที่สามารถควบคุมได้ และ Lower link หรือแขนหุ่นยนต์ที่ต่ออยู่กับ End-effector มีลักษณะการเคลื่อนที่ที่ขึ้นอยู่กับ Upper link \n"
   ]
  },
  {
   "cell_type": "markdown",
   "metadata": {},
   "source": [
    "<img src=\"picture\\kn_delta.png\" alt=\"Alt text\" width=\"500\"/>"
   ]
  },
  {
   "cell_type": "markdown",
   "metadata": {},
   "source": [
    "#### **Inverse Kinematics :**\n",
    "ในการที่จะให้ Delta robot สามารถเคลื่อนที่ไปยังตำแหน่งที่ต้องการได้นั้นจะต้องอาศัยการควบคุมองศาในการเคลื่อนที่ของแต่ละ Joint ของหุ่นยนต์ จึงได้มีการประยุกต์ใช้สมการ Inverse Kinematics (Geometry Method) ของ Delta Robot เพื่อนำตำแหน่งของ End-effector ไปทำการคำนวณหาองศาที่แต่ละ Joint ควรจะเคลื่อนที่เพื่อให้สามารถเคลื่อนที่ไปยัง Target ที่ต้องการได้ โดยมีหลักการคำนวณในการหา Inverse Kinematics ดังนี้"
   ]
  },
  {
   "cell_type": "markdown",
   "metadata": {},
   "source": [
    "<img src=\"picture\\equation_pic\\fdb_delta.png\" alt=\"Alt text\" width=\"500\"/>"
   ]
  },
  {
   "cell_type": "markdown",
   "metadata": {},
   "source": [
    "<img src=\"picture\\equation_pic\\var.png\" alt=\"Alt text\" width=\"500\"/>"
   ]
  },
  {
   "cell_type": "markdown",
   "metadata": {},
   "source": [
    "เริ่มด้วยการวิเคราะห์ลักษณะทาง Geometry ของ Delta robot\n",
    "\n",
    "1. Joint F_1 J_1 หมุนแค่ใน YZ Plane โดยที่ F_1 J_1 คือ รัศมี r_f\n",
    "2. J1 และ E1 ถูกเรียกว่าเป็น Universal Joint เนื่องจาก E_1 J_1 หมุนอย่างอิสระสัมพันธ์กับ E_1\n",
    "3. สามเหลี่ยมที่ถูกตรึง (สีเขียว) ขนานกับสามเหลี่ยม End-Effector \n",
    "\n",
    "และ กำหนดให้ ตำแหน่งตรงกลางของ End- Effector คือ E_0 (x_(0,) y_0,z_0) และจงหา θ_i โดยที่ i=1,2,3\n",
    "\n",
    "จากรูป วงกลมสีเหลือง intersect กับ YZ plane ก่อให้เกิดวงกลมสีส้ม ซึ่งมีจุดศูนย์กลางคือ E_1' และมีค่ารัศมีเท่ากับ E_1' J_1\n"
   ]
  },
  {
   "cell_type": "markdown",
   "metadata": {},
   "source": [
    "<img src=\"picture\\equation_pic\\fbd_delta_with_working.png\" alt=\"Alt text\" width=\"500\"/>"
   ]
  },
  {
   "cell_type": "markdown",
   "metadata": {},
   "source": [
    "สำหรับการหาค่า θ_1 ต้องพิจารณาที่ YZ plane ดังนี้"
   ]
  },
  {
   "cell_type": "markdown",
   "metadata": {},
   "source": [
    "<img src=\"picture\\equation_pic\\fbd.png\" alt=\"Alt text\" width=\"500\"/>"
   ]
  },
  {
   "cell_type": "markdown",
   "metadata": {},
   "source": [
    "เนื่องจาก E_1 คือภาพฉายของ E_0 บริเวณด้านล่างของ End-Effector บริเวณ XZ-plane "
   ]
  },
  {
   "cell_type": "markdown",
   "metadata": {},
   "source": [
    "<img src=\"picture\\equation_pic\\eq1.png\" alt=\"Alt text\" width=\"600\"/>"
   ]
  },
  {
   "cell_type": "markdown",
   "metadata": {},
   "source": [
    "และ  E_1' คือภาพฉายของ E_1 บริเวณ YZ-plane จึงทำให้"
   ]
  },
  {
   "cell_type": "markdown",
   "metadata": {},
   "source": [
    "<img src=\"picture\\equation_pic\\eq4.png\" alt=\"Alt text\" width=\"200\"/>"
   ]
  },
  {
   "cell_type": "markdown",
   "metadata": {},
   "source": [
    "สรุปสมการได้ว่า"
   ]
  },
  {
   "cell_type": "markdown",
   "metadata": {},
   "source": [
    "<img src=\"picture\\equation_pic\\eq3.png\" alt=\"Alt text\" width=\"600\"/>"
   ]
  },
  {
   "cell_type": "markdown",
   "metadata": {},
   "source": [
    "และ"
   ]
  },
  {
   "cell_type": "markdown",
   "metadata": {},
   "source": [
    "<img src=\"picture\\equation_pic\\eq4.png\" alt=\"Alt text\" width=\"200\"/>"
   ]
  },
  {
   "cell_type": "markdown",
   "metadata": {},
   "source": [
    "<img src=\"picture\\equation_pic\\fbd.png\" alt=\"Alt text\" width=\"500\"/>"
   ]
  },
  {
   "cell_type": "markdown",
   "metadata": {},
   "source": [
    "และจากการที่วงกลมทั้ง 2 วงมีการ Intersect นั้นเกิดจาก"
   ]
  },
  {
   "cell_type": "markdown",
   "metadata": {},
   "source": [
    "<img src=\"picture\\equation_pic\\eq5.png\" alt=\"Alt text\" width=\"600\"/>"
   ]
  },
  {
   "cell_type": "markdown",
   "metadata": {},
   "source": [
    "ทำการหา ZJ_1 และ YJ_1 เพื่อหา θ_1และทำเช่นเดียวกับวิธีข้างต้น เพื่อหา θ_2 และ θ_3โดยที่ YF_1 สามารถหาได้จากการ Projection **ร่วมกับตรีโกณมิติ**"
   ]
  },
  {
   "cell_type": "markdown",
   "metadata": {},
   "source": [
    "<img src=\"picture\\equation_pic\\pic1.png\" alt=\"Alt text\" width=\"600\"/>"
   ]
  },
  {
   "cell_type": "markdown",
   "metadata": {},
   "source": [
    "<img src=\"picture\\equation_pic\\eq6.png\" alt=\"Alt text\" width=\"600\"/>"
   ]
  },
  {
   "cell_type": "markdown",
   "metadata": {},
   "source": [
    "#### **Singularity** :"
   ]
  },
  {
   "cell_type": "markdown",
   "metadata": {},
   "source": [
    "จากความสัมพันธ์ของสมการที่ได้หาใน Inverse Kinematics เมื่อนำไปจัดรูปสมการเพื่อหา zj1 และ yj1"
   ]
  },
  {
   "cell_type": "markdown",
   "metadata": {},
   "source": [
    "<img src=\"picture\\equation_pic\\eq_sing_1.png\" alt=\"Alt text\" width=\"600\"/>"
   ]
  },
  {
   "cell_type": "markdown",
   "metadata": {},
   "source": [
    "จากนั้นทำการหา Singularity ด้วยการใช้หลัก Geometry นำความสัมพันธ์ของสมการ a กับ b และ parameter อื่นๆ มาคำนวณหาค่า d "
   ]
  },
  {
   "cell_type": "markdown",
   "metadata": {},
   "source": [
    "<img src=\"picture\\equation_pic\\eq_sing_2.png\" alt=\"Alt text\" width=\"600\"/>"
   ]
  },
  {
   "cell_type": "markdown",
   "metadata": {},
   "source": [
    "ซึ่งถ้ามีค่า d < 0 แสดงว่าเกิด Singularity"
   ]
  },
  {
   "cell_type": "markdown",
   "metadata": {},
   "source": [
    "#### **Constrains & Specification** :"
   ]
  },
  {
   "cell_type": "markdown",
   "metadata": {},
   "source": [
    "โดย Specification ของ Delta robot รุ่น IRB 340 จาก Datasheet มีดังนี้\n",
    "- Link 1 : 300 mm\n",
    "- Link 2 : 800 mm"
   ]
  },
  {
   "cell_type": "markdown",
   "metadata": {},
   "source": [
    "<img src=\"picture\\link_length.png\" alt=\"Alt text\" width=\"600\"/>"
   ]
  },
  {
   "cell_type": "markdown",
   "metadata": {},
   "source": [
    "และ constrain ขององศาในการเคลื่อนที่อยู่ที่ [-46.1 , 95.5]"
   ]
  },
  {
   "cell_type": "markdown",
   "metadata": {},
   "source": [
    "\n",
    "<img src=\"picture\\constrains.png\" alt=\"Alt text\" width=\"600\"/>\n"
   ]
  },
  {
   "cell_type": "markdown",
   "metadata": {},
   "source": [
    "## **Program Instruction**\n",
    "\n",
    "**[ส่วนนี้เป็นเพียงอธิบายการทำงานของระบบ Simulation เท่านั้น หากต้องการ run ระบบให้ทำการ run ผ่าน file ที่มีชื่อว่า main.py]**"
   ]
  },
  {
   "cell_type": "markdown",
   "metadata": {},
   "source": [
    "### **File robot_computation.py**"
   ]
  },
  {
   "cell_type": "markdown",
   "metadata": {},
   "source": [
    "**Function calc_trajectory** \n",
    "- ใช้ในการนำตำแหน่ง Target มาเพื่อ Generate trajectory ด้วยฟังก์ชัน linspace จากตำแหน่งอ้างอิง"
   ]
  },
  {
   "cell_type": "code",
   "execution_count": null,
   "metadata": {},
   "outputs": [],
   "source": [
    "def calc_trajectory(r0, r_goal, m):\n",
    "    traj = np.array([np.linspace(r0[0], r_goal[0], m),\n",
    "                     np.linspace(r0[1], r_goal[1], m),\n",
    "                     np.linspace(r0[2], r_goal[2], m)])\n",
    "    return traj"
   ]
  },
  {
   "cell_type": "markdown",
   "metadata": {},
   "source": [
    "**Function calc_trajectory_angles**\n",
    "- นำ Trajectory ที่ Generate มาคำนวณหาองศาที่ใช้ในการสั่งการเคลื่อนที่"
   ]
  },
  {
   "cell_type": "code",
   "execution_count": null,
   "metadata": {},
   "outputs": [],
   "source": [
    "def calc_trajectory_angles(traj, param):\n",
    "    m = traj.shape[1]\n",
    "    angles = np.zeros((3, m))\n",
    "\n",
    "    for i in range(m):\n",
    "        angles[:, i], s = inverse_kinematics([traj[0, i], traj[1, i], traj[2, i]], param)\n",
    "    print(f\"angles : {angles}\")\n",
    "    return angles, s"
   ]
  },
  {
   "cell_type": "markdown",
   "metadata": {},
   "source": [
    "**Function inverse_kinematics & calc_inverse**\n",
    "- ใช้ในการคำนวณหา Inverse kinematics โดยการใช้พิกัด x,y,z จาก Trajectory เพื่อหาองศาในการเคลื่อนที่\n",
    "- มีการตรวจสอบ Singularity โดยจะเข้าเงื่อนไข และแสดงการแจ้งเตือน เมื่อ d < 0"
   ]
  },
  {
   "cell_type": "code",
   "execution_count": null,
   "metadata": {},
   "outputs": [],
   "source": [
    "def inverse_kinematics(r, param):\n",
    "    global last_theta\n",
    "    x, y, z = r\n",
    "    t1 = 0\n",
    "    t2 = 0\n",
    "    t3 = 0\n",
    "\n",
    "    t1, s = calc_inverse(r, param)\n",
    "    \n",
    "    t2, s = calc_inverse([x * np.cos(120 * np.pi / 180) + y * np.sin(120 * np.pi / 180),\n",
    "                        y * np.cos(120 * np.pi / 180) - x * np.sin(120 * np.pi / 180), z], param)\n",
    "\n",
    "    t3, s = calc_inverse([x * np.cos(120 * np.pi / 180) - y * np.sin(120 * np.pi / 180),\n",
    "                        y * np.cos(120 * np.pi / 180) + x * np.sin(120 * np.pi / 180), z], param)\n",
    "\n",
    "    if s == 0:\n",
    "        t = [t1, t2, t3]\n",
    "        last_theta = t\n",
    "    else:\n",
    "        t = last_theta\n",
    "    \n",
    "    print(f\"Theta {t}\")\n",
    "    \n",
    "    return t, s\n",
    "\n",
    "def calc_inverse(r, param):\n",
    "    # Theta joint angles\n",
    "    theta = [0, 0, 0]\n",
    "    # End-effector pose\n",
    "    x, y, z = r\n",
    "    # Length of upper joint in m\n",
    "    r_f = param[0]  \n",
    "    # Length of lower joint in m\n",
    "    r_e = param[1]\n",
    "    # Side of Base triangle\n",
    "    f = param[2]  \n",
    "    # Side of End effector triangle\n",
    "    e = param[3] \n",
    "    # Range of base triangle in y-axis\n",
    "    f1 = -f / (2 * np.sqrt(3))  # y1 = -(Side of base triangle) / (2*sqrt(3)) [ 2 * tan30 ]\n",
    "    # Range of end effector triangle in y-axis\n",
    "    k = e / (2 * np.sqrt(3))  # k = (Side of end effector triangle) / (2*sqrt(3)) [ 2 * tan30 ]\n",
    "    # Pose position - Range of end effector triangle in y-axis\n",
    "    y1 = y - k  # Shift\n",
    "    # (End-effector pose)^2 + (Length of upper link)^2 - (Length of lower link)^2 - (Range of base triangle in y-axis)^2 / (2 * Pose position in Z-Axis)\n",
    "    a = (x**2 + y1**2 + z**2 + r_f**2 - r_e**2 - f1**2) / (2 * z)\n",
    "    # (Range of base triangle in y-axis - Pose position in y-axis (shifted)) / Pose position in Z-Axis\n",
    "    b = (f1 - y1) / z\n",
    "    # -(a + b * Range of base triangle in y-axis)^2 + Length of upper joint * (b^2 * Length of upper joint + Length of upper joint)\n",
    "    d = -(a + b * f1)**2 + r_f * (b**2 * r_f + r_f) \n",
    "    if d < 0:\n",
    "        print('Pose not in range! Choose another Pose that is not a singularity')       \n",
    "        # Replace this with your actual message\n",
    "        popup_message = \"Singularity occurred! Simulation stopped.\"\n",
    "        # Create a popup with information message\n",
    "        messagebox.showinfo(\"Singularity Warning\", popup_message)\n",
    "        # Terminate the program\n",
    "        s = 1\n",
    "        return\n",
    "    else:\n",
    "        yj = (y1 - a * b - np.sqrt(d)) / (b**2 + 1)  # choosing outer point\n",
    "        zj = a + b * yj\n",
    "        theta = 180 * np.arctan(-zj / (y1 - yj)) / np.pi\n",
    "\n",
    "        if yj > y1:\n",
    "            theta += 180\n",
    "        s = 0\n",
    "    return theta, s"
   ]
  },
  {
   "cell_type": "markdown",
   "metadata": {},
   "source": [
    "### **File plotting_simulation.py**"
   ]
  },
  {
   "cell_type": "markdown",
   "metadata": {},
   "source": [
    "**Function plot_position**\n",
    "- ในส่วนสำหรับการ plot ลักษณะการเคลื่อนที่ของ Delta robot"
   ]
  },
  {
   "cell_type": "code",
   "execution_count": null,
   "metadata": {},
   "outputs": [],
   "source": [
    "def plot_position(ax, r, t, param):\n",
    "    # Coordinates\n",
    "    x, y, z = r\n",
    "    t1, t2, t3 = t\n",
    "    # Rod lengths in m\n",
    "    r_f, r_e = param[0], param[1]\n",
    "    # Triangular side lengths in m\n",
    "    f, e = param[2], param[3]\n",
    "\n",
    "    l = f + 2 * r_f  # to adjust the view\n",
    "\n",
    "    # Update the plot in the provided axes\n",
    "    ax.clear()\n",
    "    ax.set_xlim([-l, l])\n",
    "    ax.set_ylim([-l, l])\n",
    "    ax.set_zlim([-l * 2, l / 2])\n",
    "\n",
    "    # Plot robot f plate\n",
    "    p_f1 = np.array([f / 2, -f / (2 * np.sqrt(3)), 0])\n",
    "    p_f2 = np.array([0, f / np.cos(30 * np.pi / 180) / 2, 0])\n",
    "    p_f3 = np.array([-f / 2, -f / (2 * np.sqrt(3)), 0])\n",
    "\n",
    "    ax.plot([p_f1[0], p_f2[0]], [p_f1[1], p_f2[1]], [p_f1[2], p_f2[2]], 'r-')\n",
    "    ax.plot([p_f2[0], p_f3[0]], [p_f2[1], p_f3[1]], [p_f2[2], p_f3[2]], 'r-')\n",
    "    ax.plot([p_f3[0], p_f1[0]], [p_f3[1], p_f1[1]], [p_f3[2], p_f1[2]], 'r-')\n",
    "\n",
    "    # Plot robot e plate\n",
    "    p_e1 = r + np.array([e / 2, -e / (2 * np.sqrt(3)), 0])\n",
    "    p_e2 = r + np.array([0, e / np.cos(30 * np.pi / 180) / 2, 0])\n",
    "    p_e3 = r + np.array([-e / 2, -e / (2 * np.sqrt(3)), 0])\n",
    "\n",
    "    ax.plot([p_e1[0], p_e2[0]], [p_e1[1], p_e2[1]], [p_e1[2], p_e2[2]], 'b-')\n",
    "    ax.plot([p_e2[0], p_e3[0]], [p_e2[1], p_e3[1]], [p_e2[2], p_e3[2]], 'b-')\n",
    "    ax.plot([p_e3[0], p_e1[0]], [p_e3[1], p_e1[1]], [p_e3[2], p_e1[2]], 'b-')\n",
    "    \n",
    "    # Plot end effector position\n",
    "    ax.scatter(x, y, z, c='g', marker='o')\n",
    "\n",
    "    # Plot joints f\n",
    "    p_f1 = np.array([0, -f / (2 * np.sqrt(3)), 0])\n",
    "    R = np.array([[np.cos(120 * np.pi / 180), -np.sin(120 * np.pi / 180), 0],\n",
    "                  [np.sin(120 * np.pi / 180), np.cos(120 * np.pi / 180), 0],\n",
    "                  [0, 0, 1]])\n",
    "\n",
    "    p_f2 = np.dot(R, p_f1)\n",
    "    p_f3 = np.dot(R, p_f2)\n",
    "\n",
    "    ax.scatter(p_f1[0], p_f1[1], p_f1[2], c='g', marker='o')\n",
    "    ax.scatter(p_f2[0], p_f2[1], p_f2[2], c='g', marker='o')\n",
    "    ax.scatter(p_f3[0], p_f3[1], p_f3[2], c='g', marker='o')\n",
    "\n",
    "    # Plot joint positions f\n",
    "    p_j1 = np.array([0, -f / (2 * np.sqrt(3)) - r_f * np.cos(t1), -r_f * np.sin(t1)])\n",
    "    p_j2 = np.dot(R, np.array([0, -f / (2 * np.sqrt(3)) - r_f * np.cos(t2), -r_f * np.sin(t2)]))\n",
    "    R = np.array([[np.cos(-120 * np.pi / 180), -np.sin(-120 * np.pi / 180), 0],\n",
    "                  [np.sin(-120 * np.pi / 180), np.cos(-120 * np.pi / 180), 0],\n",
    "                  [0, 0, 1]])\n",
    "    p_j3 = np.dot(R, np.array([0, -f / (2 * np.sqrt(3)) - r_f * np.cos(t3), -r_f * np.sin(t3)]))\n",
    "\n",
    "    ax.plot([p_f1[0], p_j1[0]], [p_f1[1], p_j1[1]], [p_f1[2], p_j1[2]], 'g-')\n",
    "    ax.plot([p_f2[0], p_j2[0]], [p_f2[1], p_j2[1]], [p_f2[2], p_j2[2]], 'g-')\n",
    "    ax.plot([p_f3[0], p_j3[0]], [p_f3[1], p_j3[1]], [p_f3[2], p_j3[2]], 'g-')\n",
    "\n",
    "    # Plot joint positions\n",
    "    ax.scatter(p_j1[0], p_j1[1], p_j1[2], c='g', marker='o')\n",
    "    ax.scatter(p_j2[0], p_j2[1], p_j2[2], c='g', marker='o')\n",
    "    ax.scatter(p_j3[0], p_j3[1], p_j3[2], c='g', marker='o')\n",
    "\n",
    "    # Plot joint positions e\n",
    "    transl = np.array([0, -e / (2 * np.sqrt(3)), 0])\n",
    "    p_e1 = transl + np.array([x, y, z])\n",
    "    R = np.array([[np.cos(120 * np.pi / 180), -np.sin(120 * np.pi / 180), 0],\n",
    "                  [np.sin(120 * np.pi / 180), np.cos(120 * np.pi / 180), 0],\n",
    "                  [0, 0, 1]])\n",
    "    p_e2 = np.dot(R, transl) + r\n",
    "    R = np.array([[np.cos(-120 * np.pi / 180), -np.sin(-120 * np.pi / 180), 0],\n",
    "                  [np.sin(-120 * np.pi / 180), np.cos(-120 * np.pi / 180), 0],\n",
    "                  [0, 0, 1]])\n",
    "    p_e3 = np.dot(R, transl) + r\n",
    "\n",
    "    ax.plot([p_j1[0], p_e1[0]], [p_j1[1], p_e1[1]], [p_j1[2], p_e1[2]], 'r-')\n",
    "    ax.plot([p_j2[0], p_e2[0]], [p_j2[1], p_e2[1]], [p_j2[2], p_e2[2]], 'r-')\n",
    "    ax.plot([p_j3[0], p_e3[0]], [p_j3[1], p_e3[1]], [p_j3[2], p_e3[2]], 'r-')\n",
    "\n",
    "    ax.set_xlabel('X')\n",
    "    ax.set_ylabel('Y')\n",
    "    ax.set_zlabel('Z')"
   ]
  },
  {
   "cell_type": "markdown",
   "metadata": {},
   "source": [
    "**Funciton animation**\n",
    "- ใช้สำหรับการ update การ plot Delta robot ให้สามารถเห็นลักษณะการเคลื่อนที่จากจุดนึงไปยังอีกจุดนึง"
   ]
  },
  {
   "cell_type": "code",
   "execution_count": null,
   "metadata": {},
   "outputs": [],
   "source": [
    "def animation(ax, angles, traj, param):\n",
    "    # Simulation step size\n",
    "    dt = 0.1\n",
    "\n",
    "    for i in range(angles.shape[1]):\n",
    "        start_time = time.time()\n",
    "        plot_position(ax, traj[:, i], angles[:, i], param)\n",
    "        plt.pause(dt)\n",
    "        elapsed_time = time.time() - start_time\n",
    "\n",
    "        # Adjust pause duration to maintain the specified time step\n",
    "        if elapsed_time < dt:\n",
    "            time.sleep(dt - elapsed_time)"
   ]
  },
  {
   "cell_type": "markdown",
   "metadata": {},
   "source": [
    "### **File point_mode.py**"
   ]
  },
  {
   "cell_type": "markdown",
   "metadata": {},
   "source": [
    "- กำหนด Parameters ต่างๆ ของ Delta robot และเก็บในตัวแปร param\n",
    "- กำหนด step สำหรับ trajectory"
   ]
  },
  {
   "cell_type": "code",
   "execution_count": null,
   "metadata": {},
   "outputs": [],
   "source": [
    "r_f = 3e-2  # Length of upper joint in m\n",
    "r_e = 8e-2  # Length of lower joint\n",
    "f = 3.7e-2    # Side of Fixed triangle\n",
    "e = 2.6e-3    # Side of End effector triangle\n",
    "\n",
    "# Define param to keep all of parameters\n",
    "param = [r_f, r_e, f, e]\n",
    "    \n",
    "# Trajectory\n",
    "m = 10  # number of trajectory points"
   ]
  },
  {
   "cell_type": "markdown",
   "metadata": {},
   "source": [
    "- กำหนด goal\n",
    "- Trajectory generator\n",
    "- คำนวณ angles ของ Delta robot\n",
    "- ตรวจสอบ singularity"
   ]
  },
  {
   "cell_type": "code",
   "execution_count": null,
   "metadata": {},
   "outputs": [],
   "source": [
    "# Update the target position\n",
    "r_goal = np.array([target_x, target_y, target_z])\n",
    "\n",
    "# Calculate trajectory and angles\n",
    "trajectory[:, :, 0] = calc_trajectory(current_pose, r_goal, m)\n",
    "angles[:, :, 0], s = calc_trajectory_angles(trajectory[:, :, 0], param)\n",
    "angles[:, :, 0] *= np.pi / 180\n",
    "\n",
    "# Check if have singularity will return immediately\n",
    "if s == 1:\n",
    "    trajectory[:, :, 0] = last_traj[:, :, 0]\n",
    "    angles[:, :, 0] = last_angles[:, :, 0]\n",
    "    return trajectory, angles, last_traj, last_angles, current_pose, count\n",
    "            \n",
    "# Update last_traj and last_angles for singularity check\n",
    "last_traj[:, :, 0] = trajectory[:, :, 0]\n",
    "last_angles[:, :, 0] = angles[:, :, 0]\n",
    "\n",
    "# Update current pose for the next iteration\n",
    "current_pose = r_goal\n",
    "\n",
    "# Proceed with animation without checking for singularity\n",
    "animation(ax, angles[:, :, 0], trajectory[:, :, 0], param)\n",
    "print(f\"Goal {count} reached.\")"
   ]
  },
  {
   "cell_type": "markdown",
   "metadata": {},
   "source": [
    "### **File pose_mode.py**"
   ]
  },
  {
   "cell_type": "markdown",
   "metadata": {},
   "source": [
    "- นำ Target ของแต่ละ pose มาคำนวณเพื่อทำการหาเส้นทางในการเคลื่อนที่ในแต่ละจุด"
   ]
  },
  {
   "cell_type": "code",
   "execution_count": null,
   "metadata": {},
   "outputs": [],
   "source": [
    "for target in values:\n",
    "    # Calculate trajectory and angles\n",
    "    trajectory[:, :, 0] = calc_trajectory(current_pose, target, m)\n",
    "    angles[:, :, 0], s = calc_trajectory_angles(trajectory[:, :, 0], param)\n",
    "    angles[:, :, 0] *= np.pi / 180\n",
    "\n",
    "    # Update current pose for the next iteration\n",
    "    current_pose = target\n",
    "\n",
    "    # Proceed with animation without checking for singularity\n",
    "    animation(ax, angles[:, :, 0], trajectory[:, :, 0], param)\n",
    "\n",
    "    print(\"Goal reached.\")"
   ]
  },
  {
   "cell_type": "markdown",
   "metadata": {},
   "source": [
    "## **How to use**"
   ]
  },
  {
   "cell_type": "markdown",
   "metadata": {},
   "source": [
    "**Run file main.py**\n",
    "- จะมี 2 function ให้เลือกใช้งานคือ Point mode กับ Pose mode\n",
    "- **[Point mode] :** กำหนดพิกัดเพื่อให้หุ่นยนต์เคลื่อนที่ไปยังตำแหน่งที่ต้องการ\n",
    "- **[Pose mode] :** กำหนด poses ที่ต้องการหลังจากนั้นกำหนดพิกัดของแต่ละ pose เพื่อให้หุ่นยนต์เคลื่อนที่ไปตามตำแหน่งที่ได้กำหนดไว้จนจบ"
   ]
  },
  {
   "cell_type": "markdown",
   "metadata": {},
   "source": [
    "<img src=\"picture\\main.png\" alt=\"Alt text\" width=\"600\"/>"
   ]
  },
  {
   "cell_type": "markdown",
   "metadata": {},
   "source": [
    "**[Mode 1] Point mode**\n",
    "- ภายในหน้าต่างจะมีพิกัด x,y,z ให้ผู้ใช้กรอก\n",
    "- เมื่อกรอกเรียบร้อยให้ทำการกด Simulate\n",
    "- หน่วยที่กรอกเป็นหน่วยพิกัดสามารถดูกราฟที่ Plot ออกมาเพื่อใช้ในการเลือกพิกัดในการเคลื่อนที่"
   ]
  },
  {
   "cell_type": "markdown",
   "metadata": {},
   "source": [
    "<img src=\"picture\\ui_point.png\" alt=\"Alt text\" width=\"600\"/>"
   ]
  },
  {
   "cell_type": "markdown",
   "metadata": {},
   "source": [
    "<img src=\"picture\\point_f.png\" alt=\"Alt text\" width=\"600\"/>"
   ]
  },
  {
   "cell_type": "markdown",
   "metadata": {},
   "source": [
    "**[Mode 1] Point mode simulate**\n",
    "- เมื่อผู้ใช้ทำการกด simulate ระบบจะทำการคำนวณเพื่อหาองศาในการควบคุม Link ของหุ่นยนต์\n",
    "- หลังจากนั้นจะทำการ update plot ไปยังตำแหน่งที่ผู้ใช้ได้ทำการกรอก"
   ]
  },
  {
   "cell_type": "markdown",
   "metadata": {},
   "source": [
    "<img src=\"picture\\point.png\" alt=\"Alt text\" width=\"600\"/>"
   ]
  },
  {
   "cell_type": "markdown",
   "metadata": {},
   "source": [
    "**[Mode 2] Pose mode**\n",
    "- ผู้ใช้สามารถกรอก pose เพื่อ define ตำแหน่งที่ต้องการให้หุ่นยนต์เคลื่อนที่ไปทั้งหมด\n",
    "- สามารถกรอกพิกัดของแต่ละ pose เพื่อให้หุ่นสามารถเคลื่อนที่ไปยังตำแหน่งที่ต้องการได้"
   ]
  },
  {
   "cell_type": "markdown",
   "metadata": {},
   "source": [
    "<img src=\"picture\\ui_pose.png\" alt=\"Alt text\" width=\"600\"/>"
   ]
  },
  {
   "cell_type": "markdown",
   "metadata": {},
   "source": [
    "**Singularity check**\n",
    "- ระบบจะแจ้งเตือนเมื่อผู้ใช้กรอกค่าที่เกิน Limit ทำให้เกิด Singularity หลังจากที่กด Simulation ไป"
   ]
  },
  {
   "cell_type": "markdown",
   "metadata": {},
   "source": [
    "<img src=\"picture\\singularity.png\" alt=\"Alt text\" width=\"600\"/>"
   ]
  },
  {
   "cell_type": "markdown",
   "metadata": {},
   "source": [
    "**ผลของการจำลอง**"
   ]
  },
  {
   "cell_type": "markdown",
   "metadata": {},
   "source": [
    "**[Mode 1] Point mode simulate**\n",
    "- จำลองโดยกำหนดพิกัดในการเคลื่อนที่ X: -0.03 | Y: -0.03 | Z: -0.08"
   ]
  },
  {
   "cell_type": "markdown",
   "metadata": {},
   "source": [
    "<img src=\"picture\\point_m.gif\" alt=\"Animated GIF\" width=\"600\"/>"
   ]
  },
  {
   "cell_type": "markdown",
   "metadata": {},
   "source": [
    "**[Mode 2] Pose mode simulate**\n",
    "- จำลองโดยกำหนด pose ในการเคลื่อนที่ทั้งหมด 3 poses และสุ่มตำแหน่งในการเคลื่อนที่ของแต่ละ pose"
   ]
  },
  {
   "cell_type": "markdown",
   "metadata": {},
   "source": [
    "<img src=\"picture\\pose_m.gif\" alt=\"Animated GIF\" width=\"600\"/>"
   ]
  },
  {
   "cell_type": "markdown",
   "metadata": {},
   "source": [
    "**Summary**\n",
    "\n",
    "จากการทำการทดสอบ และพัฒนาระบบ Simulation พบว่า\n",
    "- ระบบสามารถนำตำแหน่ง Target ไปคำนวณหาองศาในการเคลื่อนที่ด้วย Inverse kinematics ได้\n",
    "- ระบบสามารถตรวจสอบการเกิด Singularity ของหุ่นยนต์ได้"
   ]
  },
  {
   "cell_type": "markdown",
   "metadata": {},
   "source": [
    "**การนำไปใช้งาน**\n",
    "- สามารถใช้ในการจำลองการเคลื่อนที่ของ Delta robot ไปยังพิกัดต่างๆ ได้ \n",
    "- ทดสอบการทำงานเพื่อหา Limit ของ Delta robot\n",
    "- สามารถนำไปนำการทำงานบางส่วนไปปรับใช้งานกับหุ่นยนต์จริง (Pick and Paste)"
   ]
  }
 ],
 "metadata": {
  "kernelspec": {
   "display_name": "base",
   "language": "python",
   "name": "python3"
  },
  "language_info": {
   "codemirror_mode": {
    "name": "ipython",
    "version": 3
   },
   "file_extension": ".py",
   "mimetype": "text/x-python",
   "name": "python",
   "nbconvert_exporter": "python",
   "pygments_lexer": "ipython3",
   "version": "3.11.3"
  }
 },
 "nbformat": 4,
 "nbformat_minor": 2
}
